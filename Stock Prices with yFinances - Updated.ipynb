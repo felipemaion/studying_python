{
 "cells": [
  {
   "cell_type": "code",
   "execution_count": null,
   "metadata": {},
   "outputs": [],
   "source": [
    "import yfinance as yf\n",
    "\n",
    "# Get the data for the stock AAPL\n",
    "data = yf.download('PETR4.SA','2019-03-03','2020-03-03')\n",
    "\n",
    "# Import the plotting library\n",
    "import matplotlib.pyplot as plt\n",
    "%matplotlib inline\n",
    "\n",
    "# Plot the close price of the AAPL\n",
    "data['Adj Close'].plot()\n",
    "plt.show()"
   ]
  },
  {
   "cell_type": "markdown",
   "metadata": {},
   "source": [
    "Tá vendo que preciso colocar .SA no código do ativo? Para o yhoo pegar aqui do South America.. \n",
    "\n",
    "entao... mais como da pra pegar todos os ticker existente? "
   ]
  },
  {
   "cell_type": "code",
   "execution_count": null,
   "metadata": {},
   "outputs": [],
   "source": [
    "data.head()\n",
    "total_data = {}"
   ]
  },
  {
   "cell_type": "code",
   "execution_count": null,
   "metadata": {},
   "outputs": [],
   "source": [
    "ativos = [\"ABCB4\", \"ABEV3\", \"AMZO34\", \"ANIM3\", \"ARZZ3\", \"B3SA3\", \"BBAS3\", \"BBDC4\", \"BBFI11B\", \"BIDI4\", \"BRCR11\", \"BRFS3\", \"BRPR3\", \"BTOW3\", \"CIEL3\", \"COCE5\", \"CPTS11B\", \"CSAN3\", \"CVCB3\", \"CYRE3\", \"DMMO11\", \"DRIT11B\", \"EGIE3\", \"ELET6\", \"EVEN3\", \"EZTC3\", \"FAED11\", \"FAMB11B\", \"FEXC11\", \"FIGS11\", \"FIIP11B\", \"FLRY3\", \"GGRC11\", \"GNDI3\", \"GRND3\", \"HCRI11\", \"HGBS11\", \"HGLG11\", \"HGRE11\", \"HGTX3\", \"IRBR3\", \"ITSA3\", \"ITSA4\", \"ITUB3\", \"JHSF3\", \"JSLG3\", \"KEPL3\", \"KLBN4\", \"KNCR11\", \"KNIP11\", \"KNRI11\", \"LCAM3\", \"LEVE3\", \"LREN3\", \"MALL11\", \"MBRF11\", \"MELI34\", \"MFII11\", \"MGLU3\", \"MOVI3\", \"MRVE3\", \"MXRF11\", \"PETR3\", \"PETR4\", \"PORD11\", \"PRIO3\", \"PTBL3\", \"RADL3\", \"RBBV11\", \"RBCB11\", \"RBGS11\", \"RBRF11\", \"RCRB11\", \"RENT3\", \"RNGO11\", \"SAPR4\", \"SDIL11\", \"SGPS3\", \"SLCE3\", \"SMAL11\", \"SPTW11\", \"SQIA3\", \"TAEE11\", \"TEND3\", \"TIET11\", \"TRPL4\", \"TUPY3\", \"UNIP6\", \"VIVA3\", \"VVAR3\", \"WEGE3\", \"XPCM11\", \"XPLG11\", \"XPML11\", \"DIVO11\", \"IVVB11\", \"AMAR3\"]\n",
    "\n",
    "# ativos = [\"SQIA3\", \"PNVL3\", \"STBP3\", \"BEEF3\", \"ALSO3\", \"LCAM3\",\"JPSA3\", \"HBOR3\"]\n",
    "\n",
    "ativos = [ativo + \".SA\" for ativo in ativos]"
   ]
  },
  {
   "cell_type": "code",
   "execution_count": null,
   "metadata": {},
   "outputs": [],
   "source": [
    "recomprando = [\"EZTC3\",\"EVEN3\",\"ANIM3\",\"ARZZ3\",\"B3SA3\",\"BIDI4\",\"BRFS3\",\"CSAN3\",\"CYRE3\",\"MRVE3\",\"TUPY3\",\"HGTX3\",\"BTOW3\",\"CIEL3\",\"GNDI3\",\"PTBL3\"]"
   ]
  },
  {
   "cell_type": "code",
   "execution_count": null,
   "metadata": {},
   "outputs": [],
   "source": [
    "try:\n",
    "    data = yf.download(ativos,'2019-02-12','2020-04-28')\n",
    "    total_data[ativo] = data\n",
    "    print(ativo, data['Adj Close'][0], data['Adj Close'][-1])\n",
    "except:\n",
    "    continue"
   ]
  },
  {
   "cell_type": "code",
   "execution_count": null,
   "metadata": {},
   "outputs": [],
   "source": [
    "\n",
    "# ativos2 = [\"RCRB11\"]\n",
    "for ativo in ativos:\n",
    "    try:\n",
    "        data = yf.download(ativo,'2018-02-12','2020-04-28')\n",
    "        total_data[ativo] = data\n",
    "        print(ativo, data['Adj Close'][0], data['Adj Close'][-1])\n",
    "    except:\n",
    "        continue\n",
    "    "
   ]
  },
  {
   "cell_type": "code",
   "execution_count": null,
   "metadata": {},
   "outputs": [],
   "source": [
    "total_data"
   ]
  },
  {
   "cell_type": "code",
   "execution_count": null,
   "metadata": {},
   "outputs": [],
   "source": [
    "total_data['ABCB4.SA']"
   ]
  },
  {
   "cell_type": "code",
   "execution_count": null,
   "metadata": {},
   "outputs": [],
   "source": [
    "total_data['ABCB4.SA']['Adj Close'].plot()"
   ]
  },
  {
   "cell_type": "code",
   "execution_count": null,
   "metadata": {},
   "outputs": [],
   "source": [
    "total_data['ABCB4.SA'].loc['2019-03-04']"
   ]
  },
  {
   "cell_type": "code",
   "execution_count": null,
   "metadata": {},
   "outputs": [],
   "source": [
    "the_ones = [\"LCAM3\",\"LEVE3\",\"MGLU3\",\"TAEE11\",\"TRPL4\",\"GRLV11\",\"KNIP11\",\"XPML11\",\"ITSA4\",\"ITUB3\",\"RNGO11\",\"HGRE11\"]"
   ]
  },
  {
   "cell_type": "code",
   "execution_count": null,
   "metadata": {},
   "outputs": [],
   "source": [
    "the_ones.sort()"
   ]
  },
  {
   "cell_type": "code",
   "execution_count": null,
   "metadata": {},
   "outputs": [],
   "source": [
    "the_ones"
   ]
  },
  {
   "cell_type": "code",
   "execution_count": null,
   "metadata": {},
   "outputs": [],
   "source": [
    "len(the_ones)"
   ]
  },
  {
   "cell_type": "code",
   "execution_count": null,
   "metadata": {},
   "outputs": [],
   "source": [
    "100/12"
   ]
  },
  {
   "cell_type": "code",
   "execution_count": null,
   "metadata": {},
   "outputs": [],
   "source": [
    "from pylab import *\n",
    "import matplotlib.pyplot as plt\n",
    "plt.rcParams['figure.figsize'] = [50, 50]\n",
    "plt.rcParams.update({'font.size': 30})\n",
    "\n",
    "for i, ativo in enumerate(ativos[:12]):\n",
    "    subplot(4,3,i+1)\n",
    "    title(ativo)\n",
    "    xticks(rotation=90)\n",
    "    plot(total_data[ativo]['Adj Close'])\n",
    "\n",
    "show()"
   ]
  },
  {
   "cell_type": "markdown",
   "metadata": {},
   "source": [
    "<h1>TO DO:</H1>\n",
    "<ul>\n",
    "    <li> Colocar Mouse Hover nos gráficos com Bokeh"
   ]
  },
  {
   "cell_type": "code",
   "execution_count": null,
   "metadata": {},
   "outputs": [],
   "source": [
    "import yfinance as yf\n",
    "data = yf.download(\"MGLU3\" + '.SA','2017-08-16')"
   ]
  },
  {
   "cell_type": "code",
   "execution_count": null,
   "metadata": {},
   "outputs": [],
   "source": [
    "data"
   ]
  },
  {
   "cell_type": "markdown",
   "metadata": {},
   "source": [
    "Viu aqui eu pego todas as infos sobre os preços do ativo..."
   ]
  },
  {
   "cell_type": "markdown",
   "metadata": {},
   "source": [
    "entendi, mais como que ele pegou todos os ativos existentes e images?\n",
    "\n",
    "as imagens ele gerou com os dados dos preços. Os ativos eu peguei pelo código.\n",
    "sim to falando do baster ele nao fez 1 a 1.\n",
    "Cara, talvez ele tenha feito sim... ahahah mas não que precise... \n",
    "aqui eu não pego via baster... "
   ]
  },
  {
   "cell_type": "markdown",
   "metadata": {},
   "source": [
    "da para pegar via bmf, via google, via yahoo (q é esse caso...)\n",
    "eu entendo q conforme o usuário adicione o ativo/ação, aí sim ele vai começar a buscar..\n",
    "\n",
    "humm entendi, entao..... de comeco vc nao vai verificar se existe o ticker? bhahaha é com r. "
   ]
  },
  {
   "cell_type": "markdown",
   "metadata": {},
   "source": [
    "humm eu acho q consigo uma lista de todos os códigos de ativos da bolsa... mas não sei... será?\n",
    "acha que é util? ser assim ou permite o usuario colocar qualquer coisa ? o baster permite isso ?\n",
    "Em ações acho q não. Só os q já existem...\n",
    "Em BDRs (que tb são negociadas na bolsa) sei q dá para colocar, coloquei o da AMZO34 que ele não achava... fui no forum avisei, e passou a achar e atualizar.\n",
    "ah  entao tem que ter uma equipe por traz\n",
    "não sei pq... pq o yahoo finances pega o dado do mesmo jeito ahhaha\n",
    "que fonte é essa o.O"
   ]
  },
  {
   "cell_type": "code",
   "execution_count": null,
   "metadata": {},
   "outputs": [],
   "source": [
    "import xlwings as xw"
   ]
  },
  {
   "cell_type": "code",
   "execution_count": null,
   "metadata": {},
   "outputs": [],
   "source": [
    "import xlwings as xw\n",
    "current = xw.apps.keys()\n",
    "wb = xw.apps[current[0]].books[0]"
   ]
  },
  {
   "cell_type": "code",
   "execution_count": null,
   "metadata": {},
   "outputs": [],
   "source": [
    "wb = xw.apps[current[0]].books[0]"
   ]
  },
  {
   "cell_type": "code",
   "execution_count": null,
   "metadata": {},
   "outputs": [],
   "source": [
    "sht = wb.sheets['CARTEIRA ELEVEN']"
   ]
  },
  {
   "cell_type": "code",
   "execution_count": null,
   "metadata": {},
   "outputs": [],
   "source": [
    "ativos = sht.range('B40:B72').value"
   ]
  },
  {
   "cell_type": "code",
   "execution_count": null,
   "metadata": {},
   "outputs": [],
   "source": [
    "# ativos.remove('SELIC.SA')\n",
    "ativos"
   ]
  },
  {
   "cell_type": "code",
   "execution_count": null,
   "metadata": {},
   "outputs": [],
   "source": [
    "datas = sht.range('C39:M39').value"
   ]
  },
  {
   "cell_type": "code",
   "execution_count": null,
   "metadata": {},
   "outputs": [],
   "source": [
    "datas"
   ]
  },
  {
   "cell_type": "code",
   "execution_count": null,
   "metadata": {},
   "outputs": [],
   "source": [
    "data = yf.download(ativos,datas[0])"
   ]
  },
  {
   "cell_type": "code",
   "execution_count": null,
   "metadata": {},
   "outputs": [],
   "source": [
    "data[\"Adj Close\"]\n"
   ]
  },
  {
   "cell_type": "code",
   "execution_count": null,
   "metadata": {},
   "outputs": [],
   "source": [
    "sht2 = wb.sheets['HistPrecosEleven']"
   ]
  },
  {
   "cell_type": "code",
   "execution_count": null,
   "metadata": {},
   "outputs": [],
   "source": [
    "sht2.range('A1').value = data['Adj Close']"
   ]
  },
  {
   "cell_type": "code",
   "execution_count": 1,
   "metadata": {},
   "outputs": [],
   "source": [
    "#!/usr/bin/env python\n",
    "\n",
    "import requests \n",
    "from bs4 import BeautifulSoup\n",
    "import json\n",
    "import re\n",
    "\n",
    "\n",
    "def striphtml(data):\n",
    "    p = re.compile(r'<.*?>')\n",
    "    return p.sub('', data)\n",
    "\n",
    "class DataCompany():\n",
    "    def __init__(self, name):\n",
    "        self.name = name\n",
    "        self.url = \"https://www.investsite.com.br/principais_indicadores.php?cod_negociacao={}\".format(self.name)\n",
    "        self.site = requests.get(self.url)\n",
    "        self.items = []\n",
    "        self.data = {}\n",
    "        self.display_keys = {}\n",
    "        self.keys = []\n",
    "        self.json_data = {}\n",
    "        self.getdata()\n",
    "\n",
    "    def getdata(self):\n",
    "        self.keys = []\n",
    "        soup = BeautifulSoup(self.site.text, \"html.parser\")\n",
    "        div = soup.find(id=\"mostradados_empresa\")\n",
    "        if not div: return {}\n",
    "        tables_list = div.find_all(\"table\")\n",
    "        # for c in range(len(tables_list)):\n",
    "        for table in tables_list:\n",
    "            lists = table.find_all(\"td\")\n",
    "            for lis in lists:\n",
    "                try:\n",
    "                    self.items.append(lis.contents[0])\n",
    "                except:\n",
    "                    self.items.append('-')\n",
    "            contx = 0\n",
    "            conty = 1\n",
    "            while True:\n",
    "            \n",
    "                if conty >= len(self.items):\n",
    "                    break\n",
    "                else:\n",
    "                    key, value = self.items[contx], striphtml(str(self.items[conty]))\n",
    "                    new_key = self.clean_key(key)\n",
    "#                     print(\"{}:{}\".format(new_key, value))\n",
    "                    self.display_keys[new_key] = key\n",
    "                    self.keys.append(new_key)\n",
    "                    self.data[new_key] = value                          \n",
    "                    contx += 2\n",
    "                    conty += 2\n",
    "            self.items = []\n",
    "        self.data[\"url\"] = self.url    \n",
    "        data = {\"data\":self.data, \"display\":self.display_keys}    \n",
    "        self.json_data = json.dumps(data, ensure_ascii=False).encode(\"utf8\").decode() \n",
    "\n",
    "    def clean_key(self, key):\n",
    "        new_key = self.clean_string(key)\n",
    "        return new_key\n",
    "\n",
    "    def to_camel_case(self, key):\n",
    "        words = key.split(' ')\n",
    "        return words[0].lower() + ''.join(x.title() for x in words[1:])\n",
    "\n",
    "\n",
    "    def clean_string(self, key):\n",
    "        key = key.replace(\".\",\"\").replace(\"s/\",\"Sobre\").replace(\"(\",\"\").replace(\")\",\"\").replace(\"/\",\" \")\n",
    "        translationTable = str.maketrans(\"éàèùâêîôûçõóíãáúü\"+\"éàèùâêîôûçõóíãáúü\".upper(), \"eaeuaeioucooiaauu\"+\"eaeuaeioucooiaauu\".upper())\n",
    "        key = key.translate(translationTable)\n",
    "        return self.to_camel_case(key)\n",
    "\n",
    "class Company(DataCompany):\n",
    "    def __init__(self, name):\n",
    "        super(Company,self).__init__(name)\n",
    "        self.getdata()\n",
    "    def __str__(self):\n",
    "        return str(self.data)\n",
    "       \n",
    "        \n",
    "\n",
    "                \n",
    "# if __name__ == \"__main__\":\n",
    "#     wege = Company(\"WEGE3\")\n",
    "#     klbn = Company(\"KLBN4\")\n",
    "#     amar = Company(\"AMAR3\")"
   ]
  },
  {
   "cell_type": "code",
   "execution_count": 2,
   "metadata": {},
   "outputs": [
    {
     "name": "stdout",
     "output_type": "stream",
     "text": [
      "Starts schedulling:2020-10-20 00:38:30.745289\n",
      "Starting Jobs\n",
      "Getting Assets\n",
      "[14821]\n",
      "Starts assets:2020-10-20 00:40:01.603533- <Thread(Thread-4, started 123145400545280)>\n",
      "\n",
      "Ends assets:2020-10-20 00:40:02.662902- <Thread(Thread-4, started 123145400545280)>\n",
      "\n",
      "Starts Prices:2020-10-20 00:40:02.663052- <Thread(Thread-4, started 123145400545280)>\n",
      "\n",
      "- DMMO11.SA: No data found for this date range, symbol may be delisted\n",
      "Erro: DMMO11 - single positional indexer is out-of-bounds\n",
      "ENDING BOVESPA'S JOBS:\n",
      "- NONE.SA: No data found, symbol may be delisted\n",
      "Erro: None - single positional indexer is out-of-bounds\n",
      "Ends Prices:2020-10-20 00:41:10.302036- <Thread(Thread-4, started 123145400545280)>\n",
      "\n"
     ]
    },
    {
     "ename": "KeyboardInterrupt",
     "evalue": "",
     "output_type": "error",
     "traceback": [
      "\u001b[0;31m---------------------------------------------------------------------------\u001b[0m",
      "\u001b[0;31mKeyboardInterrupt\u001b[0m                         Traceback (most recent call last)",
      "\u001b[0;32m<ipython-input-2-0a57caef0d35>\u001b[0m in \u001b[0;36m<module>\u001b[0;34m\u001b[0m\n\u001b[1;32m    128\u001b[0m \u001b[0;31m#     clear_output()\u001b[0m\u001b[0;34m\u001b[0m\u001b[0;34m\u001b[0m\u001b[0;34m\u001b[0m\u001b[0m\n\u001b[1;32m    129\u001b[0m     \u001b[0mschedule\u001b[0m\u001b[0;34m.\u001b[0m\u001b[0mrun_pending\u001b[0m\u001b[0;34m(\u001b[0m\u001b[0;34m)\u001b[0m\u001b[0;34m\u001b[0m\u001b[0;34m\u001b[0m\u001b[0m\n\u001b[0;32m--> 130\u001b[0;31m     \u001b[0mtime\u001b[0m\u001b[0;34m.\u001b[0m\u001b[0msleep\u001b[0m\u001b[0;34m(\u001b[0m\u001b[0;36m1\u001b[0m\u001b[0;34m)\u001b[0m\u001b[0;34m\u001b[0m\u001b[0;34m\u001b[0m\u001b[0m\n\u001b[0m\u001b[1;32m    131\u001b[0m \u001b[0;34m\u001b[0m\u001b[0m\n",
      "\u001b[0;31mKeyboardInterrupt\u001b[0m: "
     ]
    }
   ],
   "source": [
    "import yfinance as yf\n",
    "import xlwings as xw\n",
    "import schedule\n",
    "import time\n",
    "from datetime import datetime \n",
    "from IPython.display import clear_output\n",
    "import pandas as pd\n",
    "from pandas import json_normalize  \n",
    "import functools\n",
    "import threading\n",
    "import time\n",
    "import schedule\n",
    "\n",
    "\n",
    "def job():\n",
    "    return f\"{threading.current_thread()}\\n\"\n",
    "\n",
    "\n",
    "def run_threaded(job_func):\n",
    "    job_thread = threading.Thread(target=job_func)\n",
    "    job_thread.start()\n",
    "\n",
    "def catch_exceptions(cancel_on_failure=False):\n",
    "    def catch_exceptions_decorator(job_func):\n",
    "        @functools.wraps(job_func)\n",
    "        def wrapper(*args, **kwargs):\n",
    "            try:\n",
    "                return job_func(*args, **kwargs)\n",
    "            except:\n",
    "                import traceback\n",
    "                print(traceback.format_exc())\n",
    "                if cancel_on_failure:\n",
    "                    return schedule.CancelJob\n",
    "        return wrapper\n",
    "    return catch_exceptions_decorator\n",
    "\n",
    "assets = []\n",
    "\n",
    "@catch_exceptions(cancel_on_failure=True)\n",
    "def get_assets():\n",
    "    print(\"Getting Assets\")\n",
    "    job()\n",
    "    assets = []\n",
    "    current = xw.apps.keys()\n",
    "    print(current)\n",
    "    wb = xw.apps[current[0]].books[0] \n",
    "    sht_assets = wb.sheets['ATIVOS']\n",
    "    active = True\n",
    "    i = 2\n",
    "    print(f\"Starts assets:{datetime.now()}- {job()}\")\n",
    "    # Enquanto houver assets na coluna A\n",
    "    while active:\n",
    "        asset = sht_assets.range(f\"A{i}\").value\n",
    "        assets.append(asset)\n",
    "        if asset is None: \n",
    "            active = False\n",
    "            break\n",
    "        i = i + 1\n",
    "    print(f\"Ends assets:{datetime.now()}- {job()}\")  \n",
    "    return assets\n",
    "    \n",
    "@catch_exceptions(cancel_on_failure=True)    \n",
    "def populate_prices():\n",
    "    assets = get_assets()\n",
    "#     print(assets)\n",
    "    print(f\"Starts Prices:{datetime.now()}- {job()}\")\n",
    "    job()\n",
    "    current = xw.apps.keys()\n",
    "    wb = xw.apps[current[0]].books[0] \n",
    "    sht_assets = wb.sheets['ATIVOS']\n",
    "        # Pega último preço do Ativo\n",
    "    for i, asset in enumerate(assets, start = 2):\n",
    "        try:\n",
    "            yf_asset = yf.Ticker(f\"{asset}.SA\").history().tail(1)['Close'].iloc[0]\n",
    "            if asset == \"SELIC\": yf_asset = 1\n",
    "            sht_assets.range(f\"D{i}\").value = yf_asset\n",
    "#             print(f\"\\tAtivo: {asset} -> R$ {yf_asset}\")\n",
    "            \n",
    "        except Exception as e:\n",
    "            print(f\"Erro: { asset } - {e}\")\n",
    "            pass\n",
    "    sht_assets = wb.sheets['INDICADOR']   \n",
    "    sht_assets.range(f\"F3\").value = datetime.now()\n",
    "    print(f\"Ends Prices:{datetime.now()}- {job()}\")    \n",
    "#     return schedule.CancelJob\n",
    "\n",
    "\n",
    "@catch_exceptions(cancel_on_failure=False)\n",
    "def populate_fundamentos():\n",
    "    assets = get_assets()\n",
    "    print(f\"Starts Fundamentos:{datetime.now()}\")\n",
    "    load_Company = Company(assets[0])\n",
    "    total_DataFrame = json_normalize(json.loads(load_Company.json_data)['data'])\n",
    "\n",
    "    for asset in assets[1:]:\n",
    "        load_Company = Company(asset)\n",
    "        if load_Company.data:\n",
    "            load_DataFrame = json_normalize(json.loads(load_Company.json_data)['data'])\n",
    "            total_DataFrame = pd.concat([total_DataFrame,load_DataFrame],sort=True, ignore_index=True).dropna(thresh=2)\n",
    "    print(f\"Ends Fundamentos:{datetime.now()}\")\n",
    "    current = xw.apps.keys()\n",
    "    wb = xw.apps[current[0]].books[0] \n",
    "    sht_fundamentos = wb.sheets['FUNDAMENTOS']\n",
    "    sht_fundamentos.range(f\"A1\").value = total_DataFrame\n",
    "    \n",
    "    return total_DataFrame\n",
    "    \n",
    "def schedule_jobs():\n",
    "    print(f\"Starting Jobs\")\n",
    "    schedule.every(15).minutes.do(run_threaded, populate_prices).tag(\"bovespa\")\n",
    "#     schedule.every(1).week.do(run_threaded, populate_fundamentos).tag(\"fundamentos\")\n",
    "def stops_bovespas_jobs():\n",
    "    print(f\"ENDING BOVESPA'S JOBS:\")\n",
    "    schedule.clear(\"bovespa\")\n",
    "    \n",
    "def schedule_at_bovespa_time():\n",
    "    print(f\"STARTING BOVESPA'S JOBS:\")\n",
    "    schedule.every(1).day.at(\"10:00\").do(schedule_jobs)\n",
    "    schedule.every(1).day.at(\"18:30\").do(stops_bovespas_jobs)\n",
    "# populate_prices()    \n",
    "# total_DataFrame = populate_fundamentos()\n",
    "# total_DataFrame.to_excel(\"output20201019.xlsx\")\n",
    "print(f\"Starts schedulling:{datetime.now()}\")\n",
    "schedule_at_bovespa_time()\n",
    "# schedule.every(30).seconds.do(run_threaded, populate_prices)\n",
    "\n",
    "while 1:\n",
    "#     clear_output()\n",
    "    schedule.run_pending()\n",
    "    time.sleep(1)\n",
    "    "
   ]
  },
  {
   "cell_type": "code",
   "execution_count": null,
   "metadata": {},
   "outputs": [],
   "source": [
    "#ativos = sht_ativos.range(\"A2:A\"+str(last_line)).value\n",
    "total_DataFrame.to_excel(\"output20201017.xlsx\")"
   ]
  },
  {
   "cell_type": "code",
   "execution_count": null,
   "metadata": {},
   "outputs": [],
   "source": [
    "current = xw.apps.keys()"
   ]
  },
  {
   "cell_type": "code",
   "execution_count": null,
   "metadata": {},
   "outputs": [],
   "source": [
    "current"
   ]
  },
  {
   "cell_type": "code",
   "execution_count": null,
   "metadata": {},
   "outputs": [],
   "source": [
    "Extrato 59448 OUT 2003 a AGO 20"
   ]
  },
  {
   "cell_type": "code",
   "execution_count": null,
   "metadata": {},
   "outputs": [],
   "source": [
    "#ativos = [ativo + \".SA\" for ativo in ativos]"
   ]
  },
  {
   "cell_type": "code",
   "execution_count": null,
   "metadata": {},
   "outputs": [],
   "source": [
    "# data = yf.download(  # or pdr.get_data_yahoo(...\n",
    "#         # tickers list or string as well\n",
    "#         tickers = ativos,\n",
    "\n",
    "#         # use \"period\" instead of start/end\n",
    "#         # valid periods: 1d,5d,1mo,3mo,6mo,1y,2y,5y,10y,ytd,max\n",
    "#         # (optional, default is '1mo')\n",
    "#         period = \"1d\",\n",
    "\n",
    "#         # fetch data by interval (including intraday if period < 60 days)\n",
    "#         # valid intervals: 1m,2m,5m,15m,30m,60m,90m,1h,1d,5d,1wk,1mo,3mo\n",
    "#         # (optional, default is '1d')\n",
    "#         interval = \"1d\",\n",
    "\n",
    "#         # group by ticker (to access via data['SPY'])\n",
    "#         # (optional, default is 'column')\n",
    "#         group_by = 'ticker',\n",
    "\n",
    "#         # adjust all OHLC automatically\n",
    "#         # (optional, default is False)\n",
    "#         auto_adjust = True,\n",
    "\n",
    "#         # download pre/post regular market hours data\n",
    "#         # (optional, default is False)\n",
    "#         prepost = True,\n",
    "\n",
    "#         # use threads for mass downloading? (True/False/Integer)\n",
    "#         # (optional, default is True)\n",
    "#         threads = True,\n",
    "\n",
    "#         # proxy URL scheme use use when downloading?\n",
    "#         # (optional, default is None)\n",
    "#         proxy = None\n",
    "#     )"
   ]
  },
  {
   "cell_type": "code",
   "execution_count": null,
   "metadata": {},
   "outputs": [],
   "source": [
    "# data"
   ]
  },
  {
   "cell_type": "code",
   "execution_count": null,
   "metadata": {
    "scrolled": true
   },
   "outputs": [],
   "source": [
    "# yf.Ticker(\"ABEV3.SA\").history().tail(1)['Close'].iloc[0]"
   ]
  },
  {
   "cell_type": "code",
   "execution_count": 2,
   "metadata": {},
   "outputs": [
    {
     "name": "stdout",
     "output_type": "stream",
     "text": [
      "I'm running on thread <Thread(Thread-29, started 123145504997376)>\n",
      "I'm running on thread <Thread(Thread-30, started 123145510252544)>\n",
      "I'm running on thread <Thread(Thread-31, started 123145504997376)>\n",
      "I'm running on thread <Thread(Thread-32, started 123145504997376)>\n",
      "I'm running on thread <Thread(Thread-33, started 123145510252544)>\n",
      "I'm running on thread <Thread(Thread-34, started 123145504997376)>\n",
      "I'm running on thread <Thread(Thread-35, started 123145510252544)>\n",
      "\n",
      "\n",
      "I'm running on thread <Thread(Thread-36, started 123145515507712)>\n",
      "\n",
      "I'm running on thread <Thread(Thread-37, started 123145510252544)>\n",
      "\n",
      "I'm running on thread <Thread(Thread-38, started 123145504997376)>\n",
      "\n",
      "I'm running on thread <Thread(Thread-39, started 123145504997376)>\n",
      "I'm running on thread <Thread(Thread-40, started 123145510252544)>I'm running on thread <Thread(Thread-41, started 123145504997376)>\n",
      "\n",
      "I'm running on thread <Thread(Thread-42, started 123145510252544)>\n",
      "I'm running on thread <Thread(Thread-43, started 123145504997376)>\n",
      "I'm running on thread <Thread(Thread-44, started 123145504997376)>\n",
      "I'm running on thread <Thread(Thread-45, started 123145510252544)>\n",
      "\n",
      "\n",
      "I'm running on thread <Thread(Thread-46, started 123145504997376)>\n",
      "\n",
      "I'm running on thread <Thread(Thread-47, started 123145504997376)>\n",
      "\n",
      "I'm running on thread <Thread(Thread-48, started 123145510252544)>\n",
      "\n",
      "I'm running on thread <Thread(Thread-49, started 123145504997376)>\n",
      "I'm running on thread <Thread(Thread-50, started 123145510252544)>I'm running on thread <Thread(Thread-51, started 123145504997376)>\n",
      "\n",
      "I'm running on thread <Thread(Thread-52, started 123145510252544)>\n",
      "I'm running on thread <Thread(Thread-53, started 123145504997376)>\n",
      "I'm running on thread <Thread(Thread-54, started 123145504997376)>\n",
      "I'm running on thread <Thread(Thread-55, started 123145510252544)>\n",
      "\n",
      "\n",
      "I'm running on thread <Thread(Thread-56, started 123145504997376)>\n",
      "I'm running on thread <Thread(Thread-57, started 123145510252544)>\n",
      "\n",
      "\n",
      "I'm running on thread <Thread(Thread-58, started 123145504997376)>\n",
      "\n",
      "I'm running on thread <Thread(Thread-59, started 123145510252544)>\n",
      "I'm running on thread <Thread(Thread-60, started 123145504997376)>I'm running on thread <Thread(Thread-61, started 123145510252544)>\n",
      "\n",
      "I'm running on thread <Thread(Thread-62, started 123145504997376)>\n",
      "I'm running on thread <Thread(Thread-63, started 123145504997376)>\n"
     ]
    },
    {
     "ename": "KeyboardInterrupt",
     "evalue": "",
     "output_type": "error",
     "traceback": [
      "\u001b[0;31m---------------------------------------------------------------------------\u001b[0m",
      "\u001b[0;31mKeyboardInterrupt\u001b[0m                         Traceback (most recent call last)",
      "\u001b[0;32m<ipython-input-2-028a3f6e5464>\u001b[0m in \u001b[0;36m<module>\u001b[0;34m\u001b[0m\n\u001b[1;32m     22\u001b[0m \u001b[0;32mwhile\u001b[0m \u001b[0;36m1\u001b[0m\u001b[0;34m:\u001b[0m\u001b[0;34m\u001b[0m\u001b[0;34m\u001b[0m\u001b[0m\n\u001b[1;32m     23\u001b[0m     \u001b[0mschedule\u001b[0m\u001b[0;34m.\u001b[0m\u001b[0mrun_pending\u001b[0m\u001b[0;34m(\u001b[0m\u001b[0;34m)\u001b[0m\u001b[0;34m\u001b[0m\u001b[0;34m\u001b[0m\u001b[0m\n\u001b[0;32m---> 24\u001b[0;31m     \u001b[0mtime\u001b[0m\u001b[0;34m.\u001b[0m\u001b[0msleep\u001b[0m\u001b[0;34m(\u001b[0m\u001b[0;36m1\u001b[0m\u001b[0;34m)\u001b[0m\u001b[0;34m\u001b[0m\u001b[0;34m\u001b[0m\u001b[0m\n\u001b[0m",
      "\u001b[0;31mKeyboardInterrupt\u001b[0m: "
     ]
    }
   ],
   "source": [
    "import threading\n",
    "import time\n",
    "import schedule\n",
    "\n",
    "\n",
    "def job():\n",
    "    print(f\"I'm running on thread {threading.current_thread()}\\n\")\n",
    "\n",
    "\n",
    "def run_threaded(job_func):\n",
    "    job_thread = threading.Thread(target=job_func)\n",
    "    job_thread.start()\n",
    "\n",
    "\n",
    "schedule.every(10).seconds.do(run_threaded, job)\n",
    "schedule.every(10).seconds.do(run_threaded, job)\n",
    "schedule.every(10).seconds.do(run_threaded, job)\n",
    "schedule.every(10).seconds.do(run_threaded, job)\n",
    "schedule.every(10).seconds.do(run_threaded, job)\n",
    "\n",
    "\n",
    "while 1:\n",
    "    schedule.run_pending()\n",
    "    time.sleep(1)"
   ]
  },
  {
   "cell_type": "code",
   "execution_count": null,
   "metadata": {},
   "outputs": [],
   "source": []
  }
 ],
 "metadata": {
  "kernelspec": {
   "display_name": "Python 3",
   "language": "python",
   "name": "python3"
  },
  "language_info": {
   "codemirror_mode": {
    "name": "ipython",
    "version": 3
   },
   "file_extension": ".py",
   "mimetype": "text/x-python",
   "name": "python",
   "nbconvert_exporter": "python",
   "pygments_lexer": "ipython3",
   "version": "3.7.9"
  }
 },
 "nbformat": 4,
 "nbformat_minor": 2
}
