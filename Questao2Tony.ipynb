{
 "cells": [
  {
   "cell_type": "markdown",
   "metadata": {},
   "source": [
    "Questão 02 - Criar um algoritmo que entre com vários números inteiros positivos e\n",
    "imprima o produto dos números ímpares digitados e a soma dos pares."
   ]
  },
  {
   "cell_type": "code",
   "execution_count": 5,
   "metadata": {},
   "outputs": [
    {
     "name": "stdout",
     "output_type": "stream",
     "text": [
      "Entre quantidade de números:4\n",
      "Número 0:5\n",
      "Número 1:4\n",
      "Número 2:3\n",
      "Número 3:2.1\n",
      "Entre com um número inteiro e positivo.\n",
      "\n"
     ]
    }
   ],
   "source": [
    "from functools import reduce\n",
    "import operator\n",
    "\n",
    "lista = []\n",
    "try:\n",
    "    quantidade = int(input(\"Entre quantidade de números:\"))\n",
    "    for i in range(quantidade):\n",
    "        numero = int(input(f\"Número {i}:\"))\n",
    "        if numero < 0 or numero %  1 != 0:\n",
    "            raise Exception(\"Entre com um número inteiro e positivo.\")\n",
    "        lista.append(numero)\n",
    "    print(reduce(operator.mul, [impar for impar in lista if impar %2 == 1], 1))\n",
    "    print(sum([par for par in lista if par % 2 ==0]))\n",
    "except Exception as e:\n",
    "    print(f\"Entre com um número inteiro e positivo.\\n\")\n"
   ]
  },
  {
   "cell_type": "code",
   "execution_count": null,
   "metadata": {},
   "outputs": [],
   "source": []
  },
  {
   "cell_type": "code",
   "execution_count": null,
   "metadata": {},
   "outputs": [],
   "source": []
  }
 ],
 "metadata": {
  "kernelspec": {
   "display_name": "Python 3",
   "language": "python",
   "name": "python3"
  },
  "language_info": {
   "codemirror_mode": {
    "name": "ipython",
    "version": 3
   },
   "file_extension": ".py",
   "mimetype": "text/x-python",
   "name": "python",
   "nbconvert_exporter": "python",
   "pygments_lexer": "ipython3",
   "version": "3.6.5"
  }
 },
 "nbformat": 4,
 "nbformat_minor": 2
}
