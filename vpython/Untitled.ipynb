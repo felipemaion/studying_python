{
 "cells": [
  {
   "cell_type": "code",
   "execution_count": 1,
   "metadata": {},
   "outputs": [
    {
     "data": {
      "text/html": [
       "<div id=\"glowscript\" class=\"glowscript\"></div>"
      ],
      "text/plain": [
       "<IPython.core.display.HTML object>"
      ]
     },
     "metadata": {},
     "output_type": "display_data"
    },
    {
     "data": {
      "application/javascript": [
       "if (typeof Jupyter !== \"undefined\") { window.__context = { glowscript_container: $(\"#glowscript\").removeAttr(\"id\")};}else{ element.textContent = ' ';}"
      ],
      "text/plain": [
       "<IPython.core.display.Javascript object>"
      ]
     },
     "metadata": {},
     "output_type": "display_data"
    },
    {
     "data": {
      "application/javascript": [
       "if (typeof Jupyter !== \"undefined\") {require.undef(\"nbextensions/vpython_libraries/glow.min\");}else{element.textContent = ' ';}"
      ],
      "text/plain": [
       "<IPython.core.display.Javascript object>"
      ]
     },
     "metadata": {},
     "output_type": "display_data"
    },
    {
     "data": {
      "application/javascript": [
       "if (typeof Jupyter !== \"undefined\") {require.undef(\"nbextensions/vpython_libraries/glowcomm\");}else{element.textContent = ' ';}"
      ],
      "text/plain": [
       "<IPython.core.display.Javascript object>"
      ]
     },
     "metadata": {},
     "output_type": "display_data"
    },
    {
     "data": {
      "application/javascript": [
       "if (typeof Jupyter !== \"undefined\") {require.undef(\"nbextensions/vpython_libraries/jquery-ui.custom.min\");}else{element.textContent = ' ';}"
      ],
      "text/plain": [
       "<IPython.core.display.Javascript object>"
      ]
     },
     "metadata": {},
     "output_type": "display_data"
    },
    {
     "data": {
      "application/javascript": [
       "if (typeof Jupyter !== \"undefined\") {require([\"nbextensions/vpython_libraries/glow.min\"], function(){console.log(\"GLOW LOADED\");});}else{element.textContent = ' ';}"
      ],
      "text/plain": [
       "<IPython.core.display.Javascript object>"
      ]
     },
     "metadata": {},
     "output_type": "display_data"
    },
    {
     "data": {
      "application/javascript": [
       "if (typeof Jupyter !== \"undefined\") {require([\"nbextensions/vpython_libraries/glowcomm\"], function(){console.log(\"GLOWCOMM LOADED\");});}else{element.textContent = ' ';}"
      ],
      "text/plain": [
       "<IPython.core.display.Javascript object>"
      ]
     },
     "metadata": {},
     "output_type": "display_data"
    },
    {
     "data": {
      "application/javascript": [
       "if (typeof Jupyter !== \"undefined\") {require([\"nbextensions/vpython_libraries/jquery-ui.custom.min\"], function(){console.log(\"JQUERY LOADED\");});}else{element.textContent = ' ';}"
      ],
      "text/plain": [
       "<IPython.core.display.Javascript object>"
      ]
     },
     "metadata": {},
     "output_type": "display_data"
    },
    {
     "ename": "KeyboardInterrupt",
     "evalue": "",
     "output_type": "error",
     "traceback": [
      "\u001b[1;31m---------------------------------------------------------------------------\u001b[0m",
      "\u001b[1;31mKeyboardInterrupt\u001b[0m                         Traceback (most recent call last)",
      "\u001b[1;32m<ipython-input-1-75f5e73defdb>\u001b[0m in \u001b[0;36m<module>\u001b[1;34m\u001b[0m\n\u001b[0;32m    123\u001b[0m         \u001b[0mbox\u001b[0m\u001b[1;33m(\u001b[0m\u001b[0mframe\u001b[0m\u001b[1;33m=\u001b[0m\u001b[0mself\u001b[0m\u001b[1;33m.\u001b[0m\u001b[0mbase\u001b[0m\u001b[1;33m,\u001b[0m\u001b[0mheight\u001b[0m\u001b[1;33m=\u001b[0m\u001b[1;36m0.6\u001b[0m\u001b[1;33m,\u001b[0m\u001b[0mwidth\u001b[0m\u001b[1;33m=\u001b[0m\u001b[1;36m0.6\u001b[0m\u001b[1;33m,\u001b[0m\u001b[0mlength\u001b[0m\u001b[1;33m=\u001b[0m\u001b[1;36m0.6\u001b[0m\u001b[1;33m,\u001b[0m\u001b[0mpos\u001b[0m\u001b[1;33m=\u001b[0m\u001b[0mvector\u001b[0m\u001b[1;33m(\u001b[0m\u001b[1;36m0\u001b[0m\u001b[1;33m,\u001b[0m\u001b[1;36m1.5\u001b[0m\u001b[1;33m,\u001b[0m\u001b[1;36m0\u001b[0m\u001b[1;33m)\u001b[0m\u001b[1;33m,\u001b[0m\u001b[0mcolor\u001b[0m\u001b[1;33m=\u001b[0m\u001b[0msColor\u001b[0m\u001b[1;33m)\u001b[0m\u001b[1;33m\u001b[0m\u001b[0m\n\u001b[0;32m    124\u001b[0m \u001b[1;33m\u001b[0m\u001b[0m\n\u001b[1;32m--> 125\u001b[1;33m \u001b[0mthisBoard\u001b[0m \u001b[1;33m=\u001b[0m \u001b[0mBoard\u001b[0m\u001b[1;33m(\u001b[0m\u001b[1;33m)\u001b[0m\u001b[1;33m\u001b[0m\u001b[0m\n\u001b[0m\u001b[0;32m    126\u001b[0m \u001b[1;31m#example move\u001b[0m\u001b[1;33m\u001b[0m\u001b[1;33m\u001b[0m\u001b[0m\n\u001b[0;32m    127\u001b[0m \u001b[0mthisBoard\u001b[0m\u001b[1;33m.\u001b[0m\u001b[0mparseString\u001b[0m\u001b[1;33m(\u001b[0m\u001b[1;34m'e2e4'\u001b[0m\u001b[1;33m)\u001b[0m\u001b[1;33m\u001b[0m\u001b[0m\n",
      "\u001b[1;32m<ipython-input-1-75f5e73defdb>\u001b[0m in \u001b[0;36m__init__\u001b[1;34m(self)\u001b[0m\n\u001b[0;32m     10\u001b[0m         \u001b[1;32mfor\u001b[0m \u001b[0mi\u001b[0m \u001b[1;32min\u001b[0m \u001b[0mrange\u001b[0m\u001b[1;33m(\u001b[0m\u001b[1;36m64\u001b[0m\u001b[1;33m)\u001b[0m\u001b[1;33m:\u001b[0m\u001b[1;33m\u001b[0m\u001b[0m\n\u001b[0;32m     11\u001b[0m             \u001b[0mself\u001b[0m\u001b[1;33m.\u001b[0m\u001b[0msquares\u001b[0m\u001b[1;33m.\u001b[0m\u001b[0mappend\u001b[0m\u001b[1;33m(\u001b[0m\u001b[1;32mNone\u001b[0m\u001b[1;33m)\u001b[0m\u001b[1;33m\u001b[0m\u001b[0m\n\u001b[1;32m---> 12\u001b[1;33m         \u001b[0mself\u001b[0m\u001b[1;33m.\u001b[0m\u001b[0mmakeBoard\u001b[0m\u001b[1;33m(\u001b[0m\u001b[1;33m)\u001b[0m\u001b[1;33m\u001b[0m\u001b[0m\n\u001b[0m\u001b[0;32m     13\u001b[0m         \u001b[0mself\u001b[0m\u001b[1;33m.\u001b[0m\u001b[0mplacePieces\u001b[0m\u001b[1;33m(\u001b[0m\u001b[1;33m)\u001b[0m\u001b[1;33m\u001b[0m\u001b[0m\n\u001b[0;32m     14\u001b[0m         \u001b[0mscene\u001b[0m\u001b[1;33m.\u001b[0m\u001b[0mcenter\u001b[0m\u001b[1;33m=\u001b[0m\u001b[1;33m(\u001b[0m\u001b[1;36m3.5\u001b[0m\u001b[1;33m,\u001b[0m\u001b[1;36m0\u001b[0m\u001b[1;33m,\u001b[0m\u001b[1;36m3.5\u001b[0m\u001b[1;33m)\u001b[0m\u001b[1;33m\u001b[0m\u001b[0m\n",
      "\u001b[1;32m<ipython-input-1-75f5e73defdb>\u001b[0m in \u001b[0;36mmakeBoard\u001b[1;34m(self)\u001b[0m\n\u001b[0;32m     47\u001b[0m                     \u001b[0msColor\u001b[0m \u001b[1;33m=\u001b[0m \u001b[0mcolor\u001b[0m\u001b[1;33m.\u001b[0m\u001b[0mblue\u001b[0m\u001b[1;33m\u001b[0m\u001b[0m\n\u001b[0;32m     48\u001b[0m                 \u001b[1;32melse\u001b[0m\u001b[1;33m:\u001b[0m \u001b[0msColor\u001b[0m \u001b[1;33m=\u001b[0m \u001b[0mcolor\u001b[0m\u001b[1;33m.\u001b[0m\u001b[0mwhite\u001b[0m\u001b[1;33m\u001b[0m\u001b[0m\n\u001b[1;32m---> 49\u001b[1;33m                 \u001b[0mbox\u001b[0m\u001b[1;33m(\u001b[0m\u001b[0mpos\u001b[0m\u001b[1;33m=\u001b[0m\u001b[0mvector\u001b[0m\u001b[1;33m(\u001b[0m\u001b[0mi\u001b[0m\u001b[1;33m,\u001b[0m\u001b[1;33m-\u001b[0m\u001b[1;36m0.1\u001b[0m\u001b[1;33m,\u001b[0m\u001b[0mj\u001b[0m\u001b[1;33m)\u001b[0m\u001b[1;33m,\u001b[0m\u001b[0mlength\u001b[0m\u001b[1;33m=\u001b[0m\u001b[1;36m1\u001b[0m\u001b[1;33m,\u001b[0m\u001b[0mheight\u001b[0m\u001b[1;33m=\u001b[0m\u001b[1;36m0.1\u001b[0m\u001b[1;33m,\u001b[0m\u001b[0mwidth\u001b[0m\u001b[1;33m=\u001b[0m\u001b[1;36m1\u001b[0m\u001b[1;33m,\u001b[0m\u001b[0mcolor\u001b[0m\u001b[1;33m=\u001b[0m\u001b[0msColor\u001b[0m\u001b[1;33m)\u001b[0m\u001b[1;33m\u001b[0m\u001b[0m\n\u001b[0m\u001b[0;32m     50\u001b[0m \u001b[1;33m\u001b[0m\u001b[0m\n\u001b[0;32m     51\u001b[0m     \u001b[1;32mdef\u001b[0m \u001b[0mplacePieces\u001b[0m\u001b[1;33m(\u001b[0m\u001b[0mself\u001b[0m\u001b[1;33m)\u001b[0m\u001b[1;33m:\u001b[0m\u001b[1;33m\u001b[0m\u001b[0m\n",
      "\u001b[1;32m~\\AppData\\Local\\Continuum\\anaconda3\\lib\\site-packages\\vpython\\vpython.py\u001b[0m in \u001b[0;36m__init__\u001b[1;34m(self, **args)\u001b[0m\n\u001b[0;32m   1110\u001b[0m         \u001b[0margs\u001b[0m\u001b[1;33m[\u001b[0m\u001b[1;34m'_default_size'\u001b[0m\u001b[1;33m]\u001b[0m \u001b[1;33m=\u001b[0m \u001b[0mvector\u001b[0m\u001b[1;33m(\u001b[0m\u001b[1;36m1\u001b[0m\u001b[1;33m,\u001b[0m\u001b[1;36m1\u001b[0m\u001b[1;33m,\u001b[0m\u001b[1;36m1\u001b[0m\u001b[1;33m)\u001b[0m\u001b[1;33m\u001b[0m\u001b[0m\n\u001b[0;32m   1111\u001b[0m         \u001b[0margs\u001b[0m\u001b[1;33m[\u001b[0m\u001b[1;34m'_objName'\u001b[0m\u001b[1;33m]\u001b[0m \u001b[1;33m=\u001b[0m \u001b[1;34m\"box\"\u001b[0m\u001b[1;33m\u001b[0m\u001b[0m\n\u001b[1;32m-> 1112\u001b[1;33m         \u001b[0msuper\u001b[0m\u001b[1;33m(\u001b[0m\u001b[0mbox\u001b[0m\u001b[1;33m,\u001b[0m \u001b[0mself\u001b[0m\u001b[1;33m)\u001b[0m\u001b[1;33m.\u001b[0m\u001b[0msetup\u001b[0m\u001b[1;33m(\u001b[0m\u001b[0margs\u001b[0m\u001b[1;33m)\u001b[0m\u001b[1;33m\u001b[0m\u001b[0m\n\u001b[0m\u001b[0;32m   1113\u001b[0m \u001b[1;33m\u001b[0m\u001b[0m\n\u001b[0;32m   1114\u001b[0m \u001b[1;32mclass\u001b[0m \u001b[0msphere\u001b[0m\u001b[1;33m(\u001b[0m\u001b[0mstandardAttributes\u001b[0m\u001b[1;33m)\u001b[0m\u001b[1;33m:\u001b[0m\u001b[1;33m\u001b[0m\u001b[0m\n",
      "\u001b[1;32m~\\AppData\\Local\\Continuum\\anaconda3\\lib\\site-packages\\vpython\\vpython.py\u001b[0m in \u001b[0;36msetup\u001b[1;34m(self, args)\u001b[0m\n\u001b[0;32m    575\u001b[0m \u001b[1;33m\u001b[0m\u001b[0m\n\u001b[0;32m    576\u001b[0m     \u001b[1;32mdef\u001b[0m \u001b[0msetup\u001b[0m\u001b[1;33m(\u001b[0m\u001b[0mself\u001b[0m\u001b[1;33m,\u001b[0m \u001b[0margs\u001b[0m\u001b[1;33m)\u001b[0m\u001b[1;33m:\u001b[0m\u001b[1;33m\u001b[0m\u001b[0m\n\u001b[1;32m--> 577\u001b[1;33m         \u001b[0msuper\u001b[0m\u001b[1;33m(\u001b[0m\u001b[0mstandardAttributes\u001b[0m\u001b[1;33m,\u001b[0m \u001b[0mself\u001b[0m\u001b[1;33m)\u001b[0m\u001b[1;33m.\u001b[0m\u001b[0m__init__\u001b[0m\u001b[1;33m(\u001b[0m\u001b[1;33m)\u001b[0m\u001b[1;33m\u001b[0m\u001b[0m\n\u001b[0m\u001b[0;32m    578\u001b[0m         \u001b[0mself\u001b[0m\u001b[1;33m.\u001b[0m\u001b[0m_constructing\u001b[0m \u001b[1;33m=\u001b[0m \u001b[1;32mTrue\u001b[0m  \u001b[1;31m## calls to setters are from constructor\u001b[0m\u001b[1;33m\u001b[0m\u001b[0m\n\u001b[0;32m    579\u001b[0m \u001b[1;33m\u001b[0m\u001b[0m\n",
      "\u001b[1;32m~\\AppData\\Local\\Continuum\\anaconda3\\lib\\site-packages\\vpython\\vpython.py\u001b[0m in \u001b[0;36m__init__\u001b[1;34m(self, **kwargs)\u001b[0m\n\u001b[0;32m    230\u001b[0m                 baseObj._canvas_constructing):\n\u001b[0;32m    231\u001b[0m             \u001b[1;32mif\u001b[0m \u001b[0m_isnotebook\u001b[0m\u001b[1;33m:\u001b[0m\u001b[1;33m\u001b[0m\u001b[0m\n\u001b[1;32m--> 232\u001b[1;33m                 \u001b[1;32mfrom\u001b[0m \u001b[1;33m.\u001b[0m\u001b[0mwith_notebook\u001b[0m \u001b[1;32mimport\u001b[0m \u001b[0m_\u001b[0m\u001b[1;33m\u001b[0m\u001b[0m\n\u001b[0m\u001b[0;32m    233\u001b[0m             \u001b[1;32melse\u001b[0m\u001b[1;33m:\u001b[0m\u001b[1;33m\u001b[0m\u001b[0m\n\u001b[0;32m    234\u001b[0m                 \u001b[1;32mfrom\u001b[0m \u001b[1;33m.\u001b[0m\u001b[0mno_notebook\u001b[0m \u001b[1;32mimport\u001b[0m \u001b[0m_\u001b[0m\u001b[1;33m\u001b[0m\u001b[0m\n",
      "\u001b[1;32m~\\AppData\\Local\\Continuum\\anaconda3\\lib\\site-packages\\vpython\\with_notebook.py\u001b[0m in \u001b[0;36m<module>\u001b[1;34m\u001b[0m\n\u001b[0;32m    143\u001b[0m \u001b[0mbaseObj\u001b[0m\u001b[1;33m.\u001b[0m\u001b[0mglow\u001b[0m \u001b[1;33m=\u001b[0m \u001b[0mGlowWidget\u001b[0m\u001b[1;33m(\u001b[0m\u001b[0mwsport\u001b[0m\u001b[1;33m=\u001b[0m\u001b[0m__SOCKET_PORT\u001b[0m\u001b[1;33m,\u001b[0m \u001b[0mwsuri\u001b[0m\u001b[1;33m=\u001b[0m\u001b[1;34m'/ws'\u001b[0m\u001b[1;33m)\u001b[0m\u001b[1;33m\u001b[0m\u001b[0m\n\u001b[0;32m    144\u001b[0m \u001b[1;32mwhile\u001b[0m \u001b[1;33m(\u001b[0m\u001b[1;32mnot\u001b[0m \u001b[0mwsConnected\u001b[0m\u001b[1;33m)\u001b[0m\u001b[1;33m:\u001b[0m\u001b[1;33m\u001b[0m\u001b[0m\n\u001b[1;32m--> 145\u001b[1;33m     \u001b[0mtime\u001b[0m\u001b[1;33m.\u001b[0m\u001b[0msleep\u001b[0m\u001b[1;33m(\u001b[0m\u001b[1;36m0.1\u001b[0m\u001b[1;33m)\u001b[0m          \u001b[1;31m# wait for websocket to connect\u001b[0m\u001b[1;33m\u001b[0m\u001b[0m\n\u001b[0m\u001b[0;32m    146\u001b[0m \u001b[1;33m\u001b[0m\u001b[0m\n\u001b[0;32m    147\u001b[0m \u001b[0mbaseObj\u001b[0m\u001b[1;33m.\u001b[0m\u001b[0mtrigger\u001b[0m\u001b[1;33m(\u001b[0m\u001b[1;33m)\u001b[0m  \u001b[1;31m# start the trigger ping-pong process\u001b[0m\u001b[1;33m\u001b[0m\u001b[0m\n",
      "\u001b[1;31mKeyboardInterrupt\u001b[0m: "
     ]
    }
   ],
   "source": [
    "#3D Chess Board written in Visual Python\n",
    "#Author: Shaun Press\n",
    "from vpython import *\n",
    "\n",
    "class Board:\n",
    "    'Class for chess board and pieces'\n",
    "    def __init__(self):\n",
    "        'Builds board and places pieces'\n",
    "        self.squares = []\n",
    "        for i in range(64):\n",
    "            self.squares.append(None)\n",
    "        self.makeBoard()\n",
    "        self.placePieces()\n",
    "        scene.center=(3.5,0,3.5)\n",
    "\n",
    "    def addPiece(self,x,y,piece):\n",
    "        self.squares[y*8+x] = piece\n",
    "\n",
    "    def movePiece(self,fx,fy,tx,ty):\n",
    "        'Takes pice from square fx,fy and moves to tx,ty'\n",
    "        'Checks if piece exists on square'\n",
    "        piece = self.squares[fy*8+fx]\n",
    "        if piece == None:\n",
    "            print ('eh?')\n",
    "            return\n",
    "        topiece = self.squares[ty*8+tx]\n",
    "        if topiece != None:\n",
    "            topiece.setvisible(0)\n",
    "        piece.move((tx,0,ty))\n",
    "        self.squares[ty*8+tx] = piece\n",
    "        self.squares[fy*8+fx] = None\n",
    "\n",
    "    def parseString(self,pMove):\n",
    "        'Accepts input in long algebraic ie e2e4'\n",
    "        'Columns are a-h, rows are 1-8'\n",
    "        'Bottom left square is a1 top right h9 etc' \n",
    "        fx = 7-(ord(pMove[0])-ord('a'))\n",
    "        fy = ord(pMove[1])-ord('1')\n",
    "        tx = 7-(ord(pMove[2])-ord('a'))\n",
    "        ty = ord(pMove[3])-ord('1')\n",
    "        self.movePiece(fx,fy,tx,ty)\n",
    "\n",
    "    def makeBoard(self):\n",
    "        for i in range(8):\n",
    "            for j in range(8):\n",
    "                if (i+j) % 2 == 1:\n",
    "                    sColor = color.blue\n",
    "                else: sColor = color.white\n",
    "                box(pos=vector(i,-0.1,j),length=1,height=0.1,width=1,color=sColor)\n",
    "\n",
    "    def placePieces(self):\n",
    "        for i in range(8):\n",
    "            self.addPiece(i,1,Pawn(vector(i,0,1),color.white))\n",
    "            self.addPiece(i,6,Pawn(vector(i,0,6),color.red))\n",
    "\n",
    "        self.addPiece(0,0,Rook(vector(0,0,0),color.white))\n",
    "        self.addPiece(7,0,Rook(vector(7,0,0),color.white))\n",
    "        self.addPiece(0,7,Rook(vector(0,0,7),color.red))\n",
    "        self.addPiece(7,7,Rook(vector(7,0,7),color.red))\n",
    "        self.addPiece(1,0,Knight(vector(1,0,0),color.white))\n",
    "        self.addPiece(6,0,Knight(vector(6,0,0),color.white))\n",
    "        self.addPiece(1,7,Knight(vector(1,0,7),color.red))\n",
    "        self.addPiece(6,7,Knight(vector(6,0,7),color.red))\n",
    "        self.addPiece(2,0,Bishop(vector(2,0,0),color.white))\n",
    "        self.addPiece(5,0,Bishop(vector(5,0,0),color.white))\n",
    "        self.addPiece(2,7,Bishop(vector(2,0,7),color.red))\n",
    "        self.addPiece(5,7,Bishop(vector(5,0,7),color.red))\n",
    "        self.addPiece(4,0,Queen(vector(4,0,0),color.white))\n",
    "        self.addPiece(4,7,Queen(vector(4,0,7),color.red))\n",
    "        self.addPiece(3,0,King(vector(3,0,0),color.white))\n",
    "        self.addPiece(3,7,King(vector(3,0,7),color.red))\n",
    "\n",
    "        \n",
    "class Piece:\n",
    "    'A parent class for all the piece subclasses'\n",
    "    def __init__(self):\n",
    "        self.base = None\n",
    "\n",
    "    def move(self,newPos):\n",
    "        self.base.pos = vector(newPos)\n",
    "\n",
    "    def setvisible(self,state):\n",
    "        'Makes more complex shapes invisible'\n",
    "        if hasattr(self.base,'objects'):\n",
    "            for obj in self.base.objects:\n",
    "                obj.visible = state\n",
    "        else:\n",
    "            self.base.visible = state\n",
    "        \n",
    "#All the classes for pieces\n",
    "#Simply describes how they are drawn\n",
    "            \n",
    "class Pawn(Piece):\n",
    "    def __init__(self,spos,sColor):\n",
    "        print(type(spos))\n",
    "        self.base = cone(pos=spos,radius=0.4,axis=vector(0,1,0),color=sColor)\n",
    "\n",
    "class Rook(Piece):\n",
    "    def __init__(self,spos,sColor):\n",
    "        self.base = cylinder(pos=spos,radius=0.4,length=1,axis=vector(0,1,0),color=sColor)\n",
    "\n",
    "class Knight(Piece):\n",
    "    def __init__(self,spos,sColor):\n",
    "        self.base = frame(pos=spos)\n",
    "        box(frame=self.base,pos=(0,0.4,0),width=0.4,length=0.8,height=0.4,axis=vector(0,1,0),color=sColor)\n",
    "        cone(frame=self.base,pos=(0,0.6,0),radius=0.2,axis=vector(0,1,0),color=sColor)\n",
    "\n",
    "class Bishop(Piece):\n",
    "    def __init__(self,spos,sColor):\n",
    "        self.base = frame(pos=spos)\n",
    "        cylinder(frame=self.base,pos=(0,0,0),radius=0.2,length=0.8,axis=vector(0,1,0),color=sColor)\n",
    "        cone(frame=self.base,pos=(0,0.8,0),radius=0.2,axis=vector(0,1,0),color=sColor)\n",
    "class Queen(Piece):\n",
    "    def __init__(self,spos,sColor):\n",
    "        self.base = frame(pos=spos)\n",
    "        cylinder(frame=self.base,pos=(0,0,0),radius=0.4,length=1.0,axis=vector(0,1,0),color=sColor)\n",
    "        sphere(frame=self.base,radius=0.4,pos=vector(0,1.4,0),color=sColor)\n",
    "\n",
    "class King(Piece):\n",
    "    def __init__(self,spos,sColor):\n",
    "        self.base = frame(pos=spos)\n",
    "        cylinder(frame=self.base,pos=(0,0,0),radius=0.4,length=1.2,axis=vector(0,1,0),color=sColor)\n",
    "        box(frame=self.base,height=0.6,width=0.6,length=0.6,pos=vector(0,1.5,0),color=sColor)\n",
    "            \n",
    "thisBoard = Board()\n",
    "#example move\n",
    "thisBoard.parseString('e2e4')"
   ]
  },
  {
   "cell_type": "code",
   "execution_count": null,
   "metadata": {},
   "outputs": [],
   "source": []
  }
 ],
 "metadata": {
  "kernelspec": {
   "display_name": "VPython",
   "language": "python",
   "name": "vpython"
  },
  "language_info": {
   "codemirror_mode": {
    "name": "ipython",
    "version": 3
   },
   "file_extension": ".py",
   "mimetype": "text/x-python",
   "name": "python",
   "nbconvert_exporter": "python",
   "pygments_lexer": "ipython3",
   "version": "3.6.5"
  }
 },
 "nbformat": 4,
 "nbformat_minor": 2
}
