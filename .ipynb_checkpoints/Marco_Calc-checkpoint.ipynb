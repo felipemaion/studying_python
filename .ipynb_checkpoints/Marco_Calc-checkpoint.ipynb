{
 "cells": [
  {
   "cell_type": "code",
   "execution_count": 3,
   "metadata": {},
   "outputs": [
    {
     "name": "stdout",
     "output_type": "stream",
     "text": [
      "Item 1:4\n",
      "Item 2:23\n",
      "Item 3:5\n",
      "[4, 5, 23]\n",
      "Primeiro: 4\n"
     ]
    }
   ],
   "source": [
    "minha_lista = [] \n",
    "for i in list(range(1,4)): \n",
    "    try: \n",
    "        a = int(input(\"Item {}:\".format(i))) \n",
    "        minha_lista.append(a) \n",
    "    except: \n",
    "        print(\"Erro: Entre valores Inteiros\") \n",
    "        break \n",
    "minha_lista.sort() \n",
    "print(minha_lista)         \n",
    "print('Primeiro:', minha_lista[0])                                                                                   "
   ]
  },
  {
   "cell_type": "code",
   "execution_count": 7,
   "metadata": {},
   "outputs": [
    {
     "name": "stdout",
     "output_type": "stream",
     "text": [
      "Digite o Primeiro Número:1\n",
      "Digite o Segundo Número:2\n",
      "Digite a Operação:+\n",
      "Você escolheu a adição\n",
      "'1.0' + '2.0'\n"
     ]
    }
   ],
   "source": [
    "a = float(input(\"Digite o Primeiro Número:\"))\n",
    "b = float(input(\"Digite o Segundo Número:\"))\n",
    "sinal = (input(\"Digite a Operação:\"))\n",
    "\n",
    "if sinal == (\"+\"):\n",
    "    print (\"Você escolheu a adição\")\n",
    "    result=float(a+b)\n",
    "elif sinal == (\"-\"):\n",
    "    print (\"Você escolheu a Subtração\")\n",
    "    result=float(a-b)\n",
    "\n",
    "elif sinal == (\"*\"):\n",
    "    print (\"Você escolheu a Multiplicação\")\n",
    "    result=float(a*b)\n",
    "\n",
    "elif sinal == (\"/\"):\n",
    "\n",
    "    print (\"Você escolheu a Divisão\")\n",
    "    result=float(a/b)\n",
    "else:\n",
    "    print(\"Erro: ESCOLHA +, -, * ou /\")\n",
    "    \n",
    "print (\"'{}' {} '{}'={}\".format(a,b, sinal, result))\n"
   ]
  },
  {
   "cell_type": "code",
   "execution_count": null,
   "metadata": {},
   "outputs": [],
   "source": []
  }
 ],
 "metadata": {
  "kernelspec": {
   "display_name": "Python 3",
   "language": "python",
   "name": "python3"
  },
  "language_info": {
   "codemirror_mode": {
    "name": "ipython",
    "version": 3
   },
   "file_extension": ".py",
   "mimetype": "text/x-python",
   "name": "python",
   "nbconvert_exporter": "python",
   "pygments_lexer": "ipython3",
   "version": "3.7.4"
  }
 },
 "nbformat": 4,
 "nbformat_minor": 2
}
