{
 "cells": [
  {
   "cell_type": "code",
   "execution_count": 3,
   "metadata": {},
   "outputs": [
    {
     "name": "stdout",
     "output_type": "stream",
     "text": [
      "[*********************100%***********************]  1 of 1 completed\n"
     ]
    },
    {
     "data": {
      "image/png": "[encoded data removed]",
      "text/plain": [
       "<Figure size 432x288 with 1 Axes>"
      ]
     },
     "metadata": {
      "needs_background": "light"
     },
     "output_type": "display_data"
    }
   ],
   "source": [
    "import yfinance as yf\n",
    "\n",
    "# Get the data for the stock AAPL\n",
    "data = yf.download('PETR4.SA','2019-03-03','2020-03-03')\n",
    "\n",
    "# Import the plotting library\n",
    "import matplotlib.pyplot as plt\n",
    "%matplotlib inline\n",
    "\n",
    "# Plot the close price of the AAPL\n",
    "data['Adj Close'].plot()\n",
    "plt.show()"
   ]
  },
  {
   "cell_type": "code",
   "execution_count": 4,
   "metadata": {},
   "outputs": [
    {
     "data": {
      "text/html": [
       "<div>\n",
       "<style scoped>\n",
       "    .dataframe tbody tr th:only-of-type {\n",
       "        vertical-align: middle;\n",
       "    }\n",
       "\n",
       "    .dataframe tbody tr th {\n",
       "        vertical-align: top;\n",
       "    }\n",
       "\n",
       "    .dataframe thead th {\n",
       "        text-align: right;\n",
       "    }\n",
       "</style>\n",
       "<table border=\"1\" class=\"dataframe\">\n",
       "  <thead>\n",
       "    <tr style=\"text-align: right;\">\n",
       "      <th></th>\n",
       "      <th>Open</th>\n",
       "      <th>High</th>\n",
       "      <th>Low</th>\n",
       "      <th>Close</th>\n",
       "      <th>Adj Close</th>\n",
       "      <th>Volume</th>\n",
       "    </tr>\n",
       "    <tr>\n",
       "      <th>Date</th>\n",
       "      <th></th>\n",
       "      <th></th>\n",
       "      <th></th>\n",
       "      <th></th>\n",
       "      <th></th>\n",
       "      <th></th>\n",
       "    </tr>\n",
       "  </thead>\n",
       "  <tbody>\n",
       "    <tr>\n",
       "      <td>2019-03-07</td>\n",
       "      <td>26.799999</td>\n",
       "      <td>26.910000</td>\n",
       "      <td>26.490000</td>\n",
       "      <td>26.77</td>\n",
       "      <td>25.909388</td>\n",
       "      <td>32835300</td>\n",
       "    </tr>\n",
       "    <tr>\n",
       "      <td>2019-03-08</td>\n",
       "      <td>26.490000</td>\n",
       "      <td>26.750000</td>\n",
       "      <td>26.219999</td>\n",
       "      <td>26.67</td>\n",
       "      <td>25.812601</td>\n",
       "      <td>49564400</td>\n",
       "    </tr>\n",
       "    <tr>\n",
       "      <td>2019-03-11</td>\n",
       "      <td>27.020000</td>\n",
       "      <td>27.780001</td>\n",
       "      <td>27.010000</td>\n",
       "      <td>27.75</td>\n",
       "      <td>26.857882</td>\n",
       "      <td>66742800</td>\n",
       "    </tr>\n",
       "    <tr>\n",
       "      <td>2019-03-12</td>\n",
       "      <td>27.790001</td>\n",
       "      <td>27.959999</td>\n",
       "      <td>27.250000</td>\n",
       "      <td>27.50</td>\n",
       "      <td>26.615919</td>\n",
       "      <td>64287300</td>\n",
       "    </tr>\n",
       "    <tr>\n",
       "      <td>2019-03-13</td>\n",
       "      <td>27.590000</td>\n",
       "      <td>28.129999</td>\n",
       "      <td>27.520000</td>\n",
       "      <td>28.10</td>\n",
       "      <td>27.196629</td>\n",
       "      <td>61057200</td>\n",
       "    </tr>\n",
       "  </tbody>\n",
       "</table>\n",
       "</div>"
      ],
      "text/plain": [
       "                 Open       High        Low  Close  Adj Close    Volume\n",
       "Date                                                                   \n",
       "2019-03-07  26.799999  26.910000  26.490000  26.77  25.909388  32835300\n",
       "2019-03-08  26.490000  26.750000  26.219999  26.67  25.812601  49564400\n",
       "2019-03-11  27.020000  27.780001  27.010000  27.75  26.857882  66742800\n",
       "2019-03-12  27.790001  27.959999  27.250000  27.50  26.615919  64287300\n",
       "2019-03-13  27.590000  28.129999  27.520000  28.10  27.196629  61057200"
      ]
     },
     "execution_count": 4,
     "metadata": {},
     "output_type": "execute_result"
    }
   ],
   "source": [
    "data.head()"
   ]
  },
  {
   "cell_type": "code",
   "execution_count": 6,
   "metadata": {},
   "outputs": [],
   "source": [
    "ativos = [\"VVAR3\",\"CVCB3\",\"JSLG3\",\"LCAM3\",\"RENT3\",\"PRIO3\",\"PETR3\",\"LEVE3\",\"BBAS3\",\"PETR4\",\"MGLU3\",\"XPML11\",\"ITSA4\",\"FLRY3\",\"ITUB3\",\"RNGO11\",\"HGRE11\",\"WEGE3\",\"UNIP6\",\"EGIE3\",\"COCE5\",\"BRCR11\",\"KLBN4\",\"RCRB11\",\"RBED11\",\"BTLG11\",\"HGLG11\",\"KEPL3\",\"KNRI11\",\"TIET11\",\"TAEE11\",\"TRPL4\",\"GRLV11\",\"KNIP11\"]"
   ]
  },
  {
   "cell_type": "code",
   "execution_count": 14,
   "metadata": {},
   "outputs": [
    {
     "ename": "SyntaxError",
     "evalue": "'continue' not properly in loop (<ipython-input-14-64ac1e03a9fe>, line 11)",
     "output_type": "error",
     "traceback": [
      "\u001b[0;36m  File \u001b[0;32m\"<ipython-input-14-64ac1e03a9fe>\"\u001b[0;36m, line \u001b[0;32m11\u001b[0m\n\u001b[0;31mSyntaxError\u001b[0m\u001b[0;31m:\u001b[0m 'continue' not properly in loop\n"
     ]
    }
   ],
   "source": [
    "total_data = {}\n",
    "for ativo in ativos:\n",
    "    try:\n",
    "        data = yf.download(ativo + '.SA','2019-04-03','2020-04-03')\n",
    "        total_data[ativo] = data\n",
    "        print(ativo, data['Adj Close'][0], data['Adj Close'][-1])\n",
    "    except:\n",
    "        continue\n",
    "    "
   ]
  },
  {
   "cell_type": "code",
   "execution_count": null,
   "metadata": {},
   "outputs": [],
   "source": []
  }
 ],
 "metadata": {
  "kernelspec": {
   "display_name": "Python 3",
   "language": "python",
   "name": "python3"
  },
  "language_info": {
   "codemirror_mode": {
    "name": "ipython",
    "version": 3
   },
   "file_extension": ".py",
   "mimetype": "text/x-python",
   "name": "python",
   "nbconvert_exporter": "python",
   "pygments_lexer": "ipython3",
   "version": "3.7.4"
  }
 },
 "nbformat": 4,
 "nbformat_minor": 2
}
