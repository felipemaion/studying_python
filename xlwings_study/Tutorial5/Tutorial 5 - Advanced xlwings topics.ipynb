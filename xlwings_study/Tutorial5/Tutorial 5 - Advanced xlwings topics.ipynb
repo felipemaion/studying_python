{
 "cells": [
  {
   "cell_type": "markdown",
   "metadata": {},
   "source": [
    "# Advanced xlwings topics"
   ]
  },
  {
   "cell_type": "markdown",
   "metadata": {},
   "source": [
    "# 1) Debugging"
   ]
  },
  {
   "cell_type": "markdown",
   "metadata": {},
   "source": [
    "### RunPython"
   ]
  },
  {
   "cell_type": "markdown",
   "metadata": {},
   "source": [
    "Let's create our hello world example again: `xlwings quickstart hello`\n",
    "\n",
    "There's an easy way to debug your code that you run with RunPython, add something like this to the end of the file:"
   ]
  },
  {
   "cell_type": "code",
   "execution_count": null,
   "metadata": {},
   "outputs": [],
   "source": [
    "if __name__ == '__main__':\n",
    "    xw.Book('hello.xlsm').set_mock_caller()\n",
    "    hello_xlwings()"
   ]
  },
  {
   "cell_type": "markdown",
   "metadata": {},
   "source": [
    "## UDFs (Windows only)"
   ]
  },
  {
   "cell_type": "markdown",
   "metadata": {},
   "source": [
    "To make use of xlwings' debug server, check `Debug UDFs` in the VBA settings and add the following lines to the end of your Python source file, then run the source file:"
   ]
  },
  {
   "cell_type": "code",
   "execution_count": null,
   "metadata": {},
   "outputs": [],
   "source": [
    "if __name__ == '__main__':\n",
    "    xw.serve()"
   ]
  },
  {
   "cell_type": "markdown",
   "metadata": {},
   "source": [
    " You can now set break points and print values. Depending on which debugger/IDE you use, you may need to run the program in \"debug mode\" (e.g. PyDev/PyCharm)."
   ]
  },
  {
   "cell_type": "markdown",
   "metadata": {},
   "source": [
    "# 2) Real time feeds"
   ]
  },
  {
   "cell_type": "markdown",
   "metadata": {},
   "source": [
    "### Write from Python to Excel"
   ]
  },
  {
   "cell_type": "code",
   "execution_count": null,
   "metadata": {},
   "outputs": [],
   "source": [
    "import xlwings as xw\n",
    "import datetime as dt\n",
    "import time\n",
    "\n",
    "sheet = xw.books.active.sheets.active\n",
    "sheet['A1'].number_format = 'dd/mm/yy hh:mm:ss'  # include seconds"
   ]
  },
  {
   "cell_type": "code",
   "execution_count": null,
   "metadata": {},
   "outputs": [],
   "source": [
    "# You need to interrupt the Kernel to stop\n",
    "while True:\n",
    "    sheet['A1'].value = dt.datetime.now()\n",
    "    time.sleep(0.5)"
   ]
  },
  {
   "cell_type": "markdown",
   "metadata": {},
   "source": [
    "<div class=\"alert alert-info\">\n",
    "\n",
    "**Note**: You need at least xlwings v0.11.7 for this to work correctly.\n",
    "\n",
    "</div>"
   ]
  },
  {
   "cell_type": "markdown",
   "metadata": {},
   "source": [
    "### Read Excel from Python"
   ]
  },
  {
   "cell_type": "code",
   "execution_count": null,
   "metadata": {},
   "outputs": [],
   "source": [
    "import xlwings as xw\n",
    "import time\n",
    "\n",
    "sheet = xw.books.active.sheets.active\n",
    "\n",
    "x = sheet['A3'].value\n",
    "\n",
    "while True:\n",
    "    y = sheet['A3'].value\n",
    "    if x != y:\n",
    "        x = y\n",
    "        print(x)\n",
    "    time.sleep(0.5)"
   ]
  },
  {
   "cell_type": "markdown",
   "metadata": {},
   "source": [
    "# 3) Custom xlwings Extensions"
   ]
  },
  {
   "cell_type": "markdown",
   "metadata": {},
   "source": [
    "We have seen in the beginner's course how to use the `sql` extension. As a refresher, xlwings extensions\n",
    "\n",
    "* live in the add-in\n",
    "* are immediatly usable without any further steps\n",
    "\n",
    "### To create your own extension, you need to:\n",
    "\n",
    "* Import a function\n",
    "* Copy/Paste that code into the xlwings Extensions module of the add-in (password: xlwings)\n",
    "* Change any occurrences of \"ThisWorkook\" to \"ActiveWorkbook\"\n",
    "\n",
    "The only other thing that we need to take care of is the location of the Python source file. We have the following possibilities:\n",
    "\n",
    "* Place it somewhere on your existing module search path (`sys.path`), e.g. in the site-packages folder (for more production-like setups, this can be done by creating a Python package and installing it via pip)\n",
    "* Drop it in a \"scripts\" folder or similar and add that folder to the PYTHONPATH in the add-in or the config sheet"
   ]
  },
  {
   "cell_type": "markdown",
   "metadata": {},
   "source": [
    "### => Let's turn the hello function from the quickstart project into an extension! "
   ]
  },
  {
   "cell_type": "markdown",
   "metadata": {
    "collapsed": true
   },
   "source": [
    "# 4) Custom Converters "
   ]
  },
  {
   "cell_type": "markdown",
   "metadata": {},
   "source": [
    "## Quick Refresher"
   ]
  },
  {
   "cell_type": "markdown",
   "metadata": {},
   "source": [
    "xlwings uses a default converter that handles 2d ranges as nested lists and takes care of the common formats like strings, datetime and numbers."
   ]
  },
  {
   "cell_type": "code",
   "execution_count": null,
   "metadata": {},
   "outputs": [],
   "source": [
    "import xlwings as xw\n",
    "import pandas as pd\n",
    "import numpy as np\n",
    "\n",
    "wb = xw.Book()"
   ]
  },
  {
   "cell_type": "code",
   "execution_count": null,
   "metadata": {},
   "outputs": [],
   "source": [
    "wb.sheets[0][\"A1\"].value = [[1, 'two'], ['three', None]]"
   ]
  },
  {
   "cell_type": "code",
   "execution_count": null,
   "metadata": {},
   "outputs": [],
   "source": [
    "wb.sheets[0][\"A1\"].expand().value"
   ]
  },
  {
   "cell_type": "markdown",
   "metadata": {},
   "source": [
    "## Writer your own converter!"
   ]
  },
  {
   "cell_type": "markdown",
   "metadata": {},
   "source": [
    "Here are the steps to implement your own converter class:\n",
    "\n",
    "* Inherit from `xlwings.conversion.Converter`\n",
    "* Implement both a `read_value` and `write_value` method as static- or classmethod. Both functions have the same signature and return value: they expect and return the values in the format of the base converter (hence, if no `base` has been specified, `value` is a list of list as delivered by the default converter). On the other hand, the `options` dictionary will contain all keyword arguments specified in the `Range.options` method, e.g. when calling `Range('A1').options(myoption='some value')`. Here is the structure of `read_value` method:\n",
    "\n",
    "```\n",
    "@staticmethod\n",
    "def read_value(value, options):\n",
    "    myoption = options.get('myoption', default_value)\n",
    "    # Implement your conversion here\n",
    "    return value\n",
    "```\n",
    "\n",
    "* Optional: set a `base` converter to build on top of a builtin converter: `DictCoverter`, `NumpyArrayConverter`, `PandasDataFrameConverter`, `PandasSeriesConverter`\n",
    "* Optional: register the converter: you can **(a)** register a type so that your converter becomes the default for this type during write operations and/or **(b)** you can register an alias that will allow you to explicitly call your converter by name instead of just by class name "
   ]
  },
  {
   "cell_type": "code",
   "execution_count": null,
   "metadata": {},
   "outputs": [],
   "source": [
    "from xlwings.conversion import Converter, PandasDataFrameConverter\n",
    "\n",
    "class DataFrameDropna(Converter):\n",
    "\n",
    "    base = PandasDataFrameConverter\n",
    "\n",
    "    @staticmethod\n",
    "    def read_value(df, options):\n",
    "        dropna = options.get('dropna', False)\n",
    "        if dropna:\n",
    "            return df.dropna()\n",
    "        else:\n",
    "            return df\n",
    "\n",
    "    @staticmethod\n",
    "    def write_value(df, options):\n",
    "        dropna = options.get('dropna', False)\n",
    "        if dropna:\n",
    "            df = df.dropna()\n",
    "        return df"
   ]
  },
  {
   "cell_type": "code",
   "execution_count": null,
   "metadata": {},
   "outputs": [],
   "source": [
    "sht2 = wb.sheets.add()"
   ]
  },
  {
   "cell_type": "code",
   "execution_count": null,
   "metadata": {},
   "outputs": [],
   "source": [
    "df = pd.DataFrame([[1.,10.],[2.,np.nan], [3., 30.]])\n",
    "df"
   ]
  },
  {
   "cell_type": "markdown",
   "metadata": {},
   "source": [
    "## Built-in converter"
   ]
  },
  {
   "cell_type": "code",
   "execution_count": null,
   "metadata": {},
   "outputs": [],
   "source": [
    "# Write\n",
    "sht2.range('A1').value = df"
   ]
  },
  {
   "cell_type": "code",
   "execution_count": null,
   "metadata": {},
   "outputs": [],
   "source": [
    "# Read\n",
    "sht2.range('A1:C4').options(pd.DataFrame).value"
   ]
  },
  {
   "cell_type": "markdown",
   "metadata": {},
   "source": [
    "## DataFrameDropna converter"
   ]
  },
  {
   "cell_type": "code",
   "execution_count": null,
   "metadata": {},
   "outputs": [],
   "source": [
    "# Write\n",
    "sht2.range('A7').options(DataFrameDropna, dropna=True).value = df"
   ]
  },
  {
   "cell_type": "code",
   "execution_count": null,
   "metadata": {
    "scrolled": true
   },
   "outputs": [],
   "source": [
    "# Read\n",
    "sht2.range('A1:C4').options(DataFrameDropna, dropna=True).value"
   ]
  },
  {
   "cell_type": "markdown",
   "metadata": {},
   "source": [
    "## Register an alias"
   ]
  },
  {
   "cell_type": "code",
   "execution_count": null,
   "metadata": {},
   "outputs": [],
   "source": [
    "# Optional: Register an alias\n",
    "DataFrameDropna.register('df')"
   ]
  },
  {
   "cell_type": "code",
   "execution_count": null,
   "metadata": {},
   "outputs": [],
   "source": [
    "# Read using the alias\n",
    "sht2.range('A1:C4').options('df', dropna=True).value"
   ]
  },
  {
   "cell_type": "code",
   "execution_count": null,
   "metadata": {},
   "outputs": [],
   "source": [
    "# Write using the alias\n",
    "sht2.range('A12').options('df', dropna=True).value = df"
   ]
  },
  {
   "cell_type": "markdown",
   "metadata": {},
   "source": [
    "## Register DataFrameDropna as default converter"
   ]
  },
  {
   "cell_type": "code",
   "execution_count": null,
   "metadata": {},
   "outputs": [],
   "source": [
    "# Optional: Override the builtin DataFrame converter\n",
    "DataFrameDropna.register(pd.DataFrame)"
   ]
  },
  {
   "cell_type": "code",
   "execution_count": null,
   "metadata": {},
   "outputs": [],
   "source": [
    "# Read\n",
    "sht2.range('A1:C4').options(pd.DataFrame, dropna=True).value"
   ]
  },
  {
   "cell_type": "code",
   "execution_count": null,
   "metadata": {},
   "outputs": [],
   "source": [
    "# Write\n",
    "sht2.range('A17').options(dropna=True).value = df"
   ]
  },
  {
   "cell_type": "markdown",
   "metadata": {},
   "source": [
    "# 5) REST API"
   ]
  },
  {
   "cell_type": "markdown",
   "metadata": {},
   "source": [
    "* We recommend Insomnia (https://insomnia.rest/) or Postman (https://www.getpostman.com/) as REST API clients\n",
    "* Make sure that you have Flask installed (`pip install Flask`)"
   ]
  },
  {
   "cell_type": "code",
   "execution_count": null,
   "metadata": {},
   "outputs": [],
   "source": [
    "%matplotlib inline\n",
    "import xlwings as xw\n",
    "import requests\n",
    "import pandas as pd"
   ]
  },
  {
   "cell_type": "code",
   "execution_count": null,
   "metadata": {},
   "outputs": [],
   "source": [
    "base_url = 'http://127.0.0.1:5000'"
   ]
  },
  {
   "cell_type": "code",
   "execution_count": null,
   "metadata": {},
   "outputs": [],
   "source": [
    "endpoint = '/books'\n",
    "rv = requests.get(base_url + endpoint)"
   ]
  },
  {
   "cell_type": "code",
   "execution_count": null,
   "metadata": {},
   "outputs": [],
   "source": [
    "rv.json()"
   ]
  },
  {
   "cell_type": "code",
   "execution_count": null,
   "metadata": {},
   "outputs": [],
   "source": [
    "endpoint = '/book/timeseries.xlsx/sheets/sheet1/range/A1?expand=table'\n",
    "rv = requests.get(base_url + endpoint)"
   ]
  },
  {
   "cell_type": "code",
   "execution_count": null,
   "metadata": {},
   "outputs": [],
   "source": [
    "data = rv.json()\n",
    "data"
   ]
  },
  {
   "cell_type": "code",
   "execution_count": null,
   "metadata": {},
   "outputs": [],
   "source": [
    "df = pd.DataFrame(data['value'][1:],\n",
    "                  columns=data['value'][0])\n",
    "df = df.set_index('Date')\n",
    "df.index = pd.to_datetime(df.index)\n",
    "df"
   ]
  },
  {
   "cell_type": "code",
   "execution_count": null,
   "metadata": {},
   "outputs": [],
   "source": [
    "df = df / df.iloc[0]"
   ]
  },
  {
   "cell_type": "code",
   "execution_count": null,
   "metadata": {},
   "outputs": [],
   "source": [
    "df.plot()"
   ]
  }
 ],
 "metadata": {
  "kernelspec": {
   "display_name": "Python 3",
   "language": "python",
   "name": "python3"
  },
  "language_info": {
   "codemirror_mode": {
    "name": "ipython",
    "version": 3
   },
   "file_extension": ".py",
   "mimetype": "text/x-python",
   "name": "python",
   "nbconvert_exporter": "python",
   "pygments_lexer": "ipython3",
   "version": "3.7.0"
  }
 },
 "nbformat": 4,
 "nbformat_minor": 1
}
