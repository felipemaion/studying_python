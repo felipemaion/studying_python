{
 "cells": [
  {
   "cell_type": "markdown",
   "metadata": {},
   "source": [
    "<h2>1.1. How many bits are necessary to represent the alphabet using a binary code if we only allow uppercase characters? How about if we allow both uppercase and lowercase characters?</h2>"
   ]
  },
  {
   "cell_type": "code",
   "execution_count": 36,
   "metadata": {},
   "outputs": [
    {
     "name": "stdout",
     "output_type": "stream",
     "text": [
      "Alphabet: 'ABCDEFGHIJKLMNOPQRSTUVWXYZ' size: 26 -> 5 bits\n"
     ]
    }
   ],
   "source": [
    "import string\n",
    "from math import log, ceil\n",
    "alphabet = string.ascii_uppercase\n",
    "size_alphabet = len(alphabet)\n",
    "base = 2\n",
    "# log2(m) = n\n",
    "# base**bits = messages\n",
    "bits = log(size_alphabet, base)\n",
    "bits = ceil(bits)\n",
    "print(f\"Alphabet: '{alphabet}' size: {size_alphabet} -> {bits} bits\")"
   ]
  },
  {
   "cell_type": "code",
   "execution_count": 35,
   "metadata": {},
   "outputs": [
    {
     "name": "stdout",
     "output_type": "stream",
     "text": [
      "Alphabet: 'ABCDEFGHIJKLMNOPQRSTUVWXYZabcdefghijklmnopqrstuvwxyz' size: 52 -> 6 bits\n"
     ]
    }
   ],
   "source": [
    "alphabet = string.ascii_uppercase + string.ascii_lowercase\n",
    "size_alphabet = len(alphabet)\n",
    "bits = ceil(log(size_alphabet, base))\n",
    "print(f\"Alphabet: '{alphabet}' size: {size_alphabet} -> {bits} bits\")"
   ]
  },
  {
   "cell_type": "markdown",
   "metadata": {},
   "source": [
    "<h2>1.2. Describe how you can create an OR gate using NOT gates and AND gates.</h2>"
   ]
  },
  {
   "cell_type": "code",
   "execution_count": 53,
   "metadata": {},
   "outputs": [
    {
     "name": "stdout",
     "output_type": "stream",
     "text": [
      "c=[(0, 0), (0, 1), (1, 0), (1, 1)]\n"
     ]
    }
   ],
   "source": [
    "import itertools\n",
    "a = [0,1]\n",
    "b = [0,1]\n",
    "c = list(itertools.product(*[a,b])); print(f\"c={c}\")"
   ]
  },
  {
   "cell_type": "code",
   "execution_count": 57,
   "metadata": {},
   "outputs": [
    {
     "name": "stdout",
     "output_type": "stream",
     "text": [
      "Truth table for AND:[0, 0, 0, 1]\n",
      "0 AND 0 = 0 \n",
      "0 AND 1 = 0 \n",
      "1 AND 0 = 0 \n",
      "1 AND 1 = 1 \n"
     ]
    }
   ],
   "source": [
    "truth_table_for_and = [ai and bi for ai,bi in c];print(f\"Truth table for AND:{truth_table_for_and}\")\n",
    "for i, pair in enumerate(c):\n",
    "    print(f\"{pair[0]} AND {pair[1]} = {truth_table_for_and[i]} \")"
   ]
  },
  {
   "cell_type": "code",
   "execution_count": 58,
   "metadata": {},
   "outputs": [
    {
     "name": "stdout",
     "output_type": "stream",
     "text": [
      "Truth table for OR:[0, 1, 1, 1]\n",
      "0 OR 0 = 0 \n",
      "0 OR 1 = 1 \n",
      "1 OR 0 = 1 \n",
      "1 OR 1 = 1 \n"
     ]
    }
   ],
   "source": [
    "truth_table_for_or = [ai or bi for ai,bi in c];print(f\"Truth table for OR:{truth_table_for_or}\")\n",
    "for i, pair in enumerate(c):\n",
    "    print(f\"{pair[0]} OR {pair[1]} = {truth_table_for_or[i]} \")"
   ]
  },
  {
   "cell_type": "code",
   "execution_count": null,
   "metadata": {},
   "outputs": [],
   "source": []
  }
 ],
 "metadata": {
  "kernelspec": {
   "display_name": "Python 3.6.10 64-bit",
   "language": "python",
   "name": "python361064bitcc8889da84084b97b5eb413ab53ad6ea"
  },
  "language_info": {
   "codemirror_mode": {
    "name": "ipython",
    "version": 3
   },
   "file_extension": ".py",
   "mimetype": "text/x-python",
   "name": "python",
   "nbconvert_exporter": "python",
   "pygments_lexer": "ipython3",
   "version": "3.6.10"
  }
 },
 "nbformat": 4,
 "nbformat_minor": 2
}
